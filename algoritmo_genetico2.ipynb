{
  "nbformat": 4,
  "nbformat_minor": 0,
  "metadata": {
    "colab": {
      "provenance": [],
      "authorship_tag": "ABX9TyOmkOGvUahoKUjZiQDsdRk9",
      "include_colab_link": true
    },
    "kernelspec": {
      "name": "python3",
      "display_name": "Python 3"
    },
    "language_info": {
      "name": "python"
    }
  },
  "cells": [
    {
      "cell_type": "markdown",
      "metadata": {
        "id": "view-in-github",
        "colab_type": "text"
      },
      "source": [
        "<a href=\"https://colab.research.google.com/github/rodr1ggoql17/Procesamiento-Digital-Informacion/blob/main/algoritmo_genetico2.ipynb\" target=\"_parent\"><img src=\"https://colab.research.google.com/assets/colab-badge.svg\" alt=\"Open In Colab\"/></a>"
      ]
    },
    {
      "cell_type": "code",
      "execution_count": 1,
      "metadata": {
        "colab": {
          "base_uri": "https://localhost:8080/"
        },
        "id": "y0gkTOAF5XTS",
        "outputId": "4f101381-4ab3-4edc-a83e-695e63ed725d"
      },
      "outputs": [
        {
          "output_type": "stream",
          "name": "stdout",
          "text": [
            "Looking in indexes: https://pypi.org/simple, https://us-python.pkg.dev/colab-wheels/public/simple/\n",
            "Collecting geneticalgorithm\n",
            "  Downloading geneticalgorithm-1.0.2-py3-none-any.whl (16 kB)\n",
            "Requirement already satisfied: numpy in /usr/local/lib/python3.7/dist-packages (from geneticalgorithm) (1.21.6)\n",
            "Collecting func-timeout\n",
            "  Downloading func_timeout-4.3.5.tar.gz (44 kB)\n",
            "\u001b[K     |████████████████████████████████| 44 kB 1.4 MB/s \n",
            "\u001b[?25hBuilding wheels for collected packages: func-timeout\n",
            "  Building wheel for func-timeout (setup.py) ... \u001b[?25l\u001b[?25hdone\n",
            "  Created wheel for func-timeout: filename=func_timeout-4.3.5-py3-none-any.whl size=15097 sha256=0001e6f9161446c3c8a270f583c2d2d245a60340a735a4d0eb370bb67c9267a0\n",
            "  Stored in directory: /root/.cache/pip/wheels/68/b5/a5/67c4364c354e141f5a1bd3ec568126f77877ab7554cf5af8cb\n",
            "Successfully built func-timeout\n",
            "Installing collected packages: func-timeout, geneticalgorithm\n",
            "Successfully installed func-timeout-4.3.5 geneticalgorithm-1.0.2\n"
          ]
        }
      ],
      "source": [
        "!pip install geneticalgorithm\n",
        "from geneticalgorithm import geneticalgorithm as ga\n",
        "import numpy as np\n",
        "import matplotlib.pyplot as plt"
      ]
    },
    {
      "cell_type": "code",
      "source": [
        "# tasa de subida de cada peers(kbps)\n",
        "B = np.array(([200,2000,900,100,1500]))\n",
        "\n",
        "# matriz disponibilidad segmentos de cada peer\n",
        "D = np.array([[1,1,1,0,0,1,1],\n",
        "              [0,0,1,1,0,1,1],\n",
        "              [0,1,0,1,0,1,1],\n",
        "              [0,0,0,0,0,1,1],\n",
        "              [1,1,1,0,1,1,1]])\n",
        "\n",
        "# tamaño segmento [kbps]\n",
        "K = 500"
      ],
      "metadata": {
        "id": "QL-mKpF_6EvX"
      },
      "execution_count": 9,
      "outputs": []
    },
    {
      "cell_type": "code",
      "source": [
        "def tiempo_descarga(sol,K,B):\n",
        "  tmax = 0\n",
        "  for i in range(len(B)):\n",
        "    nspp = np.sum(sol == (i+1)) # donde nspp , es numero de segmentos por peer\n",
        "    tpeer =  nspp*K/B[i]        # donde tpeer, es el tiempo de peer\n",
        "    tmax = max(tmax,tpeer)\n",
        "  return tmax"
      ],
      "metadata": {
        "id": "eYeo-tYBE6pi"
      },
      "execution_count": 38,
      "outputs": []
    },
    {
      "cell_type": "code",
      "source": [],
      "metadata": {
        "id": "tizWHbn3HZmS"
      },
      "execution_count": 30,
      "outputs": []
    },
    {
      "cell_type": "code",
      "source": [
        "print(tiempo_descarga(np.array([1,1,2,2,5,1,2]),K,B))"
      ],
      "metadata": {
        "colab": {
          "base_uri": "https://localhost:8080/"
        },
        "id": "aDwj5HE5IHcL",
        "outputId": "8b8afaaa-250a-4ef4-8e23-7eb54aa8275c"
      },
      "execution_count": 31,
      "outputs": [
        {
          "output_type": "stream",
          "name": "stdout",
          "text": [
            "7.5\n"
          ]
        }
      ]
    },
    {
      "cell_type": "code",
      "source": [
        "def everyone(n,K):\n",
        "  return tiempo_descarga(np.array([1,1,2,2,5,1,2]),K,B) - ((n*K)/np.sum(B))"
      ],
      "metadata": {
        "id": "kTMARcPrIYjE"
      },
      "execution_count": 32,
      "outputs": []
    },
    {
      "cell_type": "code",
      "source": [
        "def everyone2(n,K):\n",
        "  return tiempo_descarga(np.array([5,3,2,2,5,1,1]),K,B) - ((n*K)/np.sum(B))"
      ],
      "metadata": {
        "id": "KEYHxCZdKlMl"
      },
      "execution_count": 36,
      "outputs": []
    },
    {
      "cell_type": "code",
      "source": [
        "n = 7\n",
        "everyone(n,K)"
      ],
      "metadata": {
        "colab": {
          "base_uri": "https://localhost:8080/"
        },
        "id": "lUMMr6EoJOTr",
        "outputId": "1cbf8ad1-2b80-46ed-b687-50d4a6ccd6cd"
      },
      "execution_count": 34,
      "outputs": [
        {
          "output_type": "execute_result",
          "data": {
            "text/plain": [
              "6.75531914893617"
            ]
          },
          "metadata": {},
          "execution_count": 34
        }
      ]
    },
    {
      "cell_type": "code",
      "source": [
        "everyone2(n,K)"
      ],
      "metadata": {
        "colab": {
          "base_uri": "https://localhost:8080/"
        },
        "id": "KI7pLiBDKu4O",
        "outputId": "ab2f2109-aa28-4939-d315-92452b57a89d"
      },
      "execution_count": 37,
      "outputs": [
        {
          "output_type": "execute_result",
          "data": {
            "text/plain": [
              "4.25531914893617"
            ]
          },
          "metadata": {},
          "execution_count": 37
        }
      ]
    }
  ]
}